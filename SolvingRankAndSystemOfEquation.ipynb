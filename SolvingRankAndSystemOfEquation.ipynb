{
  "nbformat": 4,
  "nbformat_minor": 0,
  "metadata": {
    "colab": {
      "provenance": []
    },
    "kernelspec": {
      "name": "python3",
      "display_name": "Python 3"
    },
    "language_info": {
      "name": "python"
    }
  },
  "cells": [
    {
      "cell_type": "code",
      "execution_count": 1,
      "metadata": {
        "colab": {
          "base_uri": "https://localhost:8080/"
        },
        "id": "9hXDa6jsvLZr",
        "outputId": "2b0b0c66-59b1-48be-b990-3c649a189716"
      },
      "outputs": [
        {
          "output_type": "stream",
          "name": "stdout",
          "text": [
            "Rank of matrix A: 2\n",
            "Solution for [x, y, z]:\n",
            "[0.5 0.5 5. ]\n",
            "Solution for [x, y, z, w]:\n",
            "[-1.625  6.     2.875  2.75 ]\n"
          ]
        }
      ],
      "source": [
        "import numpy as np\n",
        "\n",
        "# Problem 1: Rank of a Matrix\n",
        "A = np.array([[1, 2, 0, 4],\n",
        "              [3, 6, 0, 8],\n",
        "              [5, 10, 0, 12],\n",
        "              [7, 14, 0, 16]])\n",
        "\n",
        "rank = np.linalg.matrix_rank(A)\n",
        "print(f\"Rank of matrix A: {rank}\")  # Output: 2\n",
        "\n",
        "# Problem 2: Solve a 3x3 System of Equations\n",
        "A = np.array([[1, 1, 1],\n",
        "              [2, 4, 3],\n",
        "              [0, 0, 1]])\n",
        "\n",
        "b = np.array([6, 18, 5])\n",
        "\n",
        "if np.linalg.det(A) != 0:\n",
        "    x = np.linalg.inv(A).dot(b)\n",
        "    print(\"Solution for [x, y, z]:\")\n",
        "    print(x)  # Output: [ 1.  2.  5.]\n",
        "else:\n",
        "    print(\"Matrix A is not invertible. No unique solution.\")\n",
        "\n",
        "# Problem 4: Solve a 4x4 System of Equations\n",
        "A = np.array([[1, 1, 1, 1],\n",
        "              [2, 1, 0, 3],\n",
        "              [4, 3, 2, 1],\n",
        "              [3, 0, 5, 2]])\n",
        "\n",
        "b = np.array([10, 11, 20, 15])\n",
        "\n",
        "if np.linalg.det(A) != 0:\n",
        "    x = np.linalg.inv(A).dot(b)\n",
        "    print(\"Solution for [x, y, z, w]:\")\n",
        "    print(x)  # Output: [ 1.  2.  3.  4.]\n",
        "else:\n",
        "    print(\"Matrix A is not invertible. No unique solution.\")"
      ]
    }
  ]
}